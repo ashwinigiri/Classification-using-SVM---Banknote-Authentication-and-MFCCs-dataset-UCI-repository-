{
 "cells": [
  {
   "cell_type": "markdown",
   "metadata": {},
   "source": [
    "Name: Ashwini Giri. USC ID: 5413882039"
   ]
  },
  {
   "cell_type": "markdown",
   "metadata": {},
   "source": [
    "# 1. Active Learning Using Support Vector Machine"
   ]
  },
  {
   "cell_type": "markdown",
   "metadata": {},
   "source": [
    "(a) Download the banknote authentication Data Set from: https://archive.ics. uci.edu/ml/datasets/banknote+authentication. Choose 472 data points ran- domly as the test set. This is a binary classification problem."
   ]
  },
  {
   "cell_type": "markdown",
   "metadata": {},
   "source": [
    "The dataset is available on the UCI repository. The data was extracted from images that were taken for the evaluation of an authentication procedure for banknotes.\n",
    "\n",
    "Attribute Information:\n",
    "\n",
    "1. variance of Wavelet Transformed image (continuous) \n",
    "2. skewness of Wavelet Transformed image (continuous) \n",
    "3. curtosis of Wavelet Transformed image (continuous) \n",
    "4. entropy of image (continuous) \n",
    "5. class (integer) \n",
    "\n"
   ]
  },
  {
   "cell_type": "markdown",
   "metadata": {},
   "source": [
    "The data is present in a text file without the header row, hence appending the header row while reading the data from local machine."
   ]
  },
  {
   "cell_type": "markdown",
   "metadata": {},
   "source": [
    "Below are the imports used for the entire problem."
   ]
  },
  {
   "cell_type": "code",
   "execution_count": 51,
   "metadata": {},
   "outputs": [],
   "source": [
    "import pandas as pd\n",
    "import numpy as np\n",
    "from sklearn.svm import LinearSVC\n",
    "import warnings\n",
    "warnings.filterwarnings('ignore')\n",
    "from sklearn.model_selection import GridSearchCV, KFold\n",
    "import matplotlib.pyplot as plt\n",
    "%matplotlib inline"
   ]
  },
  {
   "cell_type": "markdown",
   "metadata": {},
   "source": [
    "In the below code adding the headers while reding the data. The test data is stored in testing_dataframe variable and the train data is stored in training_dataframe. "
   ]
  },
  {
   "cell_type": "code",
   "execution_count": 68,
   "metadata": {
    "scrolled": true
   },
   "outputs": [
    {
     "data": {
      "text/html": [
       "<div>\n",
       "<style scoped>\n",
       "    .dataframe tbody tr th:only-of-type {\n",
       "        vertical-align: middle;\n",
       "    }\n",
       "\n",
       "    .dataframe tbody tr th {\n",
       "        vertical-align: top;\n",
       "    }\n",
       "\n",
       "    .dataframe thead th {\n",
       "        text-align: right;\n",
       "    }\n",
       "</style>\n",
       "<table border=\"1\" class=\"dataframe\">\n",
       "  <thead>\n",
       "    <tr style=\"text-align: right;\">\n",
       "      <th></th>\n",
       "      <th>variance</th>\n",
       "      <th>skewness</th>\n",
       "      <th>curtosis</th>\n",
       "      <th>entropy</th>\n",
       "      <th>class</th>\n",
       "    </tr>\n",
       "  </thead>\n",
       "  <tbody>\n",
       "    <tr>\n",
       "      <th>0</th>\n",
       "      <td>3.62160</td>\n",
       "      <td>8.6661</td>\n",
       "      <td>-2.8073</td>\n",
       "      <td>-0.44699</td>\n",
       "      <td>0</td>\n",
       "    </tr>\n",
       "    <tr>\n",
       "      <th>2</th>\n",
       "      <td>3.86600</td>\n",
       "      <td>-2.6383</td>\n",
       "      <td>1.9242</td>\n",
       "      <td>0.10645</td>\n",
       "      <td>0</td>\n",
       "    </tr>\n",
       "    <tr>\n",
       "      <th>4</th>\n",
       "      <td>0.32924</td>\n",
       "      <td>-4.4552</td>\n",
       "      <td>4.5718</td>\n",
       "      <td>-0.98880</td>\n",
       "      <td>0</td>\n",
       "    </tr>\n",
       "    <tr>\n",
       "      <th>5</th>\n",
       "      <td>4.36840</td>\n",
       "      <td>9.6718</td>\n",
       "      <td>-3.9606</td>\n",
       "      <td>-3.16250</td>\n",
       "      <td>0</td>\n",
       "    </tr>\n",
       "    <tr>\n",
       "      <th>7</th>\n",
       "      <td>2.09220</td>\n",
       "      <td>-6.8100</td>\n",
       "      <td>8.4636</td>\n",
       "      <td>-0.60216</td>\n",
       "      <td>0</td>\n",
       "    </tr>\n",
       "  </tbody>\n",
       "</table>\n",
       "</div>"
      ],
      "text/plain": [
       "   variance  skewness  curtosis  entropy  class\n",
       "0   3.62160    8.6661   -2.8073 -0.44699      0\n",
       "2   3.86600   -2.6383    1.9242  0.10645      0\n",
       "4   0.32924   -4.4552    4.5718 -0.98880      0\n",
       "5   4.36840    9.6718   -3.9606 -3.16250      0\n",
       "7   2.09220   -6.8100    8.4636 -0.60216      0"
      ]
     },
     "execution_count": 68,
     "metadata": {},
     "output_type": "execute_result"
    }
   ],
   "source": [
    "data = pd.read_csv(\"data_banknote_authentication.txt\",names=[\"variance\",\"skewness\",\"curtosis\",\"entropy\",\"class\"])\n",
    "testing_dataframe = data.sample(n=472)\n",
    "training_dataframe = data.loc[~data.index.isin(testing_dataframe.index)]\n",
    "training_dataframe.head()"
   ]
  },
  {
   "cell_type": "code",
   "execution_count": 69,
   "metadata": {},
   "outputs": [
    {
     "data": {
      "text/html": [
       "<div>\n",
       "<style scoped>\n",
       "    .dataframe tbody tr th:only-of-type {\n",
       "        vertical-align: middle;\n",
       "    }\n",
       "\n",
       "    .dataframe tbody tr th {\n",
       "        vertical-align: top;\n",
       "    }\n",
       "\n",
       "    .dataframe thead th {\n",
       "        text-align: right;\n",
       "    }\n",
       "</style>\n",
       "<table border=\"1\" class=\"dataframe\">\n",
       "  <thead>\n",
       "    <tr style=\"text-align: right;\">\n",
       "      <th></th>\n",
       "      <th>variance</th>\n",
       "      <th>skewness</th>\n",
       "      <th>curtosis</th>\n",
       "      <th>entropy</th>\n",
       "      <th>class</th>\n",
       "    </tr>\n",
       "  </thead>\n",
       "  <tbody>\n",
       "    <tr>\n",
       "      <th>451</th>\n",
       "      <td>5.681000</td>\n",
       "      <td>7.795000</td>\n",
       "      <td>-2.68480</td>\n",
       "      <td>-0.92544</td>\n",
       "      <td>0</td>\n",
       "    </tr>\n",
       "    <tr>\n",
       "      <th>1140</th>\n",
       "      <td>-0.530720</td>\n",
       "      <td>-0.097265</td>\n",
       "      <td>-0.21793</td>\n",
       "      <td>1.04260</td>\n",
       "      <td>1</td>\n",
       "    </tr>\n",
       "    <tr>\n",
       "      <th>166</th>\n",
       "      <td>1.116600</td>\n",
       "      <td>8.649600</td>\n",
       "      <td>-0.96252</td>\n",
       "      <td>-1.81120</td>\n",
       "      <td>0</td>\n",
       "    </tr>\n",
       "    <tr>\n",
       "      <th>747</th>\n",
       "      <td>-0.023579</td>\n",
       "      <td>7.174200</td>\n",
       "      <td>0.78457</td>\n",
       "      <td>-0.75734</td>\n",
       "      <td>0</td>\n",
       "    </tr>\n",
       "    <tr>\n",
       "      <th>493</th>\n",
       "      <td>2.808400</td>\n",
       "      <td>11.304500</td>\n",
       "      <td>-3.33940</td>\n",
       "      <td>-4.41940</td>\n",
       "      <td>0</td>\n",
       "    </tr>\n",
       "  </tbody>\n",
       "</table>\n",
       "</div>"
      ],
      "text/plain": [
       "      variance   skewness  curtosis  entropy  class\n",
       "451   5.681000   7.795000  -2.68480 -0.92544      0\n",
       "1140 -0.530720  -0.097265  -0.21793  1.04260      1\n",
       "166   1.116600   8.649600  -0.96252 -1.81120      0\n",
       "747  -0.023579   7.174200   0.78457 -0.75734      0\n",
       "493   2.808400  11.304500  -3.33940 -4.41940      0"
      ]
     },
     "execution_count": 69,
     "metadata": {},
     "output_type": "execute_result"
    }
   ],
   "source": [
    "testing_dataframe.head()"
   ]
  },
  {
   "cell_type": "markdown",
   "metadata": {},
   "source": [
    "(b) Repeat each of the following two procedures 50 times. You will have 50 errors for 90 SVMs per each procedure."
   ]
  },
  {
   "cell_type": "markdown",
   "metadata": {},
   "source": [
    "i. Train a SVM with a pool of 10 randomly selected data points from the training set using linear kernel and L1 penalty. Select the penalty parameter using 10-fold cross validation.1 Repeat this process by adding 10 other randomly selected data points to the pool, until you use all the 900 points. Do NOT replace the samples back into the training set at each step. Calculate the test error for each SVM. You will have 90 SVMs that were trained using 10, 20, 30, ... , 900 data points and their 90 test errors. You have implemented passive learning."
   ]
  },
  {
   "cell_type": "markdown",
   "metadata": {},
   "source": [
    "In the below code calculated test error for 90 SVMs and stored it in array avg_error. Averaged errors of each of these 90 SVMs and stored in array error_array. Used 10 fold cross validation for selecting the penalty parameter."
   ]
  },
  {
   "cell_type": "code",
   "execution_count": 18,
   "metadata": {
    "scrolled": false
   },
   "outputs": [],
   "source": [
    "classifier = LinearSVC(penalty='l1',dual=False)\n",
    "penalty_parameter = {'C':[1,10]}\n",
    "kf_10 = KFold(n_splits=10)\n",
    "cross_val = GridSearchCV(classifier,penalty_parameter,cv=kf_10)\n",
    "avg_err = np.zeros(90)\n",
    "for n in range(0,50):\n",
    "    temporary_dataframe = pd.DataFrame()\n",
    "    concatinated_dataframe=[]\n",
    "    copied_dataframe = training_dataframe\n",
    "    error_array=[]\n",
    "    for i in range(0,90):\n",
    "        tempdf = copied_dataframe.sample(n=10)\n",
    "        temporary_dataframe = pd.concat([temporary_dataframe,tempdf])\n",
    "        concatinated_dataframe.append(temporary_dataframe)\n",
    "        copied_dataframe = copied_dataframe.loc[~copied_dataframe.index.isin(tempdf.index)]\n",
    "        x_train=temporary_dataframe.loc[:,:'entropy']\n",
    "        y_train=temporary_dataframe['class']\n",
    "        cross_val.fit(x_train,y_train)\n",
    "        x_test = testing_dataframe.loc[:,:'entropy']\n",
    "        y_test = testing_dataframe['class']\n",
    "        accuracy_score = cross_val.score(x_test,y_test)\n",
    "        error = 1-accuracy_score\n",
    "        error_array.append(error)\n",
    "        avg_err[i]+=error"
   ]
  },
  {
   "cell_type": "code",
   "execution_count": 73,
   "metadata": {},
   "outputs": [
    {
     "data": {
      "text/plain": [
       "array([5.06567797, 2.64618644, 1.82415254, 1.47245763, 1.32627119,\n",
       "       1.20127119, 1.17584746, 1.04449153, 1.05720339, 1.03389831,\n",
       "       1.00635593, 0.97033898, 0.8940678 , 0.83050847, 0.82838983,\n",
       "       0.84110169, 0.85169492, 0.81779661, 0.79237288, 0.7690678 ,\n",
       "       0.75847458, 0.73728814, 0.71186441, 0.69491525, 0.73305085,\n",
       "       0.7309322 , 0.7309322 , 0.70762712, 0.70338983, 0.70762712,\n",
       "       0.71398305, 0.71186441, 0.70974576, 0.72245763, 0.71186441,\n",
       "       0.69067797, 0.69491525, 0.6779661 , 0.68644068, 0.69279661,\n",
       "       0.68220339, 0.68644068, 0.66949153, 0.66949153, 0.68432203,\n",
       "       0.66737288, 0.66525424, 0.65677966, 0.67161017, 0.66737288,\n",
       "       0.68855932, 0.67584746, 0.6779661 , 0.67584746, 0.6779661 ,\n",
       "       0.66525424, 0.65677966, 0.65889831, 0.65889831, 0.65677966,\n",
       "       0.65889831, 0.66949153, 0.65677966, 0.64618644, 0.66101695,\n",
       "       0.65254237, 0.63983051, 0.63347458, 0.63559322, 0.63983051,\n",
       "       0.64194915, 0.64194915, 0.65042373, 0.64618644, 0.65254237,\n",
       "       0.65889831, 0.65254237, 0.65042373, 0.65254237, 0.65042373,\n",
       "       0.64618644, 0.63771186, 0.64194915, 0.6440678 , 0.64830508,\n",
       "       0.63559322, 0.64194915, 0.64194915, 0.63559322, 0.63559322])"
      ]
     },
     "execution_count": 73,
     "metadata": {},
     "output_type": "execute_result"
    }
   ],
   "source": [
    "avg_err"
   ]
  },
  {
   "cell_type": "markdown",
   "metadata": {},
   "source": [
    "ii. Train a SVM with a pool of 10 randomly selected data points from the training set using linear kernel and L1 penalty. Select the parameters of the SVM with 10-fold cross validation. Choose the 10 closest data points in the training set to the margin of the SVM2 and add them to the pool. Do not replace the samples back into the training set. Train a new SVM using the pool. Repeat this process until all training data is used. You will have 90 SVMs that were trained using 10, 20, 30,..., 900 data points and their 90 test errors. You have implemented active learning."
   ]
  },
  {
   "cell_type": "markdown",
   "metadata": {},
   "source": [
    "In the below code calculated test errors by using the 10 closest data points to the margin of SVM. The support vectors distance is returned by the decision function. These 90 test errors are saved in the array avg_err_active."
   ]
  },
  {
   "cell_type": "code",
   "execution_count": 46,
   "metadata": {},
   "outputs": [],
   "source": [
    "classifier_active = LinearSVC(penalty='l1',dual=False)\n",
    "penalty_parameter_active = {'C':[1,10]}\n",
    "kf_10_active = KFold(n_splits=10)\n",
    "cross_val_active = GridSearchCV(classifier_active,penalty_parameter_active,cv=kf_10_active)\n",
    "avg_err_active = np.zeros(90)\n",
    "errors_active = []\n",
    "copied_dataframe_active = []\n",
    "for n in range(0,50):\n",
    "    copied_dataframe_active = training_dataframe\n",
    "    random_dataframe = copied_dataframe_active.sample(n=10) #10 random values\n",
    "    copied_dataframe_active = copied_dataframe_active.loc[~copied_dataframe_active.index.isin(random_dataframe.index)]\n",
    "    for i in range(0,90):\n",
    "        x_train = random_dataframe.loc[:,:'entropy']\n",
    "        y_train = random_dataframe['class']\n",
    "        cross_val_active.fit(x_train,y_train) #10\n",
    "        x_test = testing_dataframe.loc[:,:'entropy']\n",
    "        y_test = testing_dataframe['class']\n",
    "        accuracy_score_active = cross_val_active.score(x_test,y_test)\n",
    "        error = 1-accuracy_score_active\n",
    "        errors_active.append(error)\n",
    "        avg_err_active[x]+=error\n",
    "        if(i==89):\n",
    "            continue\n",
    "        support_vector_distance=cross_val_active.decision_function(copied_dataframe_active.loc[:,:'entropy'])\n",
    "        support_vector_distance = abs(support_vector_distance)\n",
    "        distance_10_sv = support_vector_distance.argsort()[:10]\n",
    "        closest_dataframe = copied_dataframe_active.iloc[distance_10_sv,:] #10 closest points to margin\n",
    "        random_dataframe = pd.concat([random_dataframe,closest_dataframe])\n",
    "        copied_dataframe_active = copied_dataframe_active.loc[~copied_dataframe_active.index.isin(closest_dataframe.index)]"
   ]
  },
  {
   "cell_type": "code",
   "execution_count": 71,
   "metadata": {},
   "outputs": [
    {
     "data": {
      "text/plain": [
       "array([5.64618644, 2.15677966, 1.40466102, 1.09745763, 0.76059322,\n",
       "       0.68644068, 0.66737288, 0.64194915, 0.63559322, 0.63559322,\n",
       "       0.63559322, 0.63559322, 0.63559322, 0.63559322, 0.63559322,\n",
       "       0.63559322, 0.63559322, 0.63559322, 0.63559322, 0.63559322,\n",
       "       0.63559322, 0.63559322, 0.63559322, 0.63559322, 0.63559322,\n",
       "       0.63559322, 0.63559322, 0.63559322, 0.63559322, 0.63559322,\n",
       "       0.63559322, 0.63559322, 0.63559322, 0.63559322, 0.63559322,\n",
       "       0.63559322, 0.63559322, 0.63559322, 0.63559322, 0.63559322,\n",
       "       0.63559322, 0.63559322, 0.63559322, 0.63559322, 0.63559322,\n",
       "       0.63559322, 0.63559322, 0.63559322, 0.63559322, 0.63559322,\n",
       "       0.63559322, 0.63559322, 0.63559322, 0.63559322, 0.63559322,\n",
       "       0.63559322, 0.63559322, 0.63559322, 0.63559322, 0.63559322,\n",
       "       0.63559322, 0.63559322, 0.63559322, 0.63559322, 0.63559322,\n",
       "       0.63559322, 0.63559322, 0.63559322, 0.63559322, 0.63559322,\n",
       "       0.63559322, 0.63559322, 0.63559322, 0.63559322, 0.63559322,\n",
       "       0.63559322, 0.63559322, 0.63559322, 0.63559322, 0.63559322,\n",
       "       0.63559322, 0.63559322, 0.63559322, 0.63559322, 0.63559322,\n",
       "       0.63559322, 0.63559322, 0.63559322, 0.63559322, 0.63559322])"
      ]
     },
     "execution_count": 71,
     "metadata": {},
     "output_type": "execute_result"
    }
   ],
   "source": [
    "avg_err_active"
   ]
  },
  {
   "cell_type": "markdown",
   "metadata": {},
   "source": [
    "(c) Average the test errors for the incrementally trained 90 SVMs in 1(b)i and1(b)ii. By doing so, you are performing a Monte Carlo simulation. Plot average test error versus number of training instances for both active and passive learners on the same figure and report your conclusions."
   ]
  },
  {
   "cell_type": "markdown",
   "metadata": {},
   "source": [
    "The test errors are plotted for both passive and active learning. The red curve is associated with passive learning whereas the green curve is associated with active learning. Performed Monte Carlo simulation by calculating the average of results of 90 SVMs obtained by iterating the SVMs for 50 times. Based on the curves following 2 conclusions can be drawn:\n",
    "\n",
    "1. Passive Learning: The average error decreases with increase in the number of training instances.\n",
    "2. Active Learning: The average error decreases with increase in the number of training instances(increase in number of support vectors in the training instances).\n",
    "\n",
    "The active training performs better than that of passive training, because the errors are less than that of passive learning."
   ]
  },
  {
   "cell_type": "code",
   "execution_count": 74,
   "metadata": {},
   "outputs": [],
   "source": [
    "avg_err[:] = [err/50 for err in avg_err]\n",
    "avg_err_active[:] = [err_act/50 for err_act in avg_err_active]\n",
    "iterations= np.arange(1,91,1)"
   ]
  },
  {
   "cell_type": "code",
   "execution_count": 75,
   "metadata": {},
   "outputs": [
    {
     "data": {
      "image/png": "[encoded data removed]",
      "text/plain": [
       "<matplotlib.figure.Figure at 0x111f0f668>"
      ]
     },
     "metadata": {},
     "output_type": "display_data"
    }
   ],
   "source": [
    "fig,ax = plt.subplots()\n",
    "ax.plot(iterations,avg_err,label='Passive Learning',color='red')\n",
    "ax.plot(iterations,avg_err_active,label='Active Learning',color='green')\n",
    "ax.set(xlabel='Iteration',ylabel='Average Errors',title='Average test error Vs Number of training instances')\n",
    "legend = ax.legend()\n",
    "plt.show()"
   ]
  }
 ],
 "metadata": {
  "kernelspec": {
   "display_name": "Python 3",
   "language": "python",
   "name": "python3"
  },
  "language_info": {
   "codemirror_mode": {
    "name": "ipython",
    "version": 3
   },
   "file_extension": ".py",
   "mimetype": "text/x-python",
   "name": "python",
   "nbconvert_exporter": "python",
   "pygments_lexer": "ipython3",
   "version": "3.6.4"
  }
 },
 "nbformat": 4,
 "nbformat_minor": 2
}
